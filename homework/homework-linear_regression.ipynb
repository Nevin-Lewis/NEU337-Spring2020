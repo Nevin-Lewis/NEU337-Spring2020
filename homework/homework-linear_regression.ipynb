{
 "cells": [
  {
   "cell_type": "markdown",
   "metadata": {},
   "source": [
    "# Homework (15 pts) - Linear Regression"
   ]
  },
  {
   "cell_type": "code",
   "execution_count": 12,
   "metadata": {},
   "outputs": [],
   "source": [
    "from sklearn import datasets\n",
    "\n",
    "dataset = datasets.load_wine()"
   ]
  },
  {
   "cell_type": "markdown",
   "metadata": {},
   "source": [
    "---\n",
    "1. (1 pt) Extract the feature data matrix and target data vector as a numpy arrays to the variables X and y, respectively."
   ]
  },
  {
   "cell_type": "markdown",
   "metadata": {},
   "source": [
    "---\n",
    "2. (1 pt) For visualization purposes only, load the feature data matrix X into a pandas dataframe and name the columns by the feature names in the dataset."
   ]
  },
  {
   "cell_type": "markdown",
   "metadata": {},
   "source": [
    "---\n",
    "3. (1 pt) To get an overall sense of your feature data, use seaborn's `pairplot` function to plot the feature data histograms and correlations."
   ]
  },
  {
   "cell_type": "markdown",
   "metadata": {},
   "source": [
    "---\n",
    "4. (3 pts) Standardize the feature data (each column of X) and the target data (y) by centering them on their mean and normalizing their variance."
   ]
  },
  {
   "cell_type": "markdown",
   "metadata": {},
   "source": [
    "---\n",
    "5. (3 pts) Fit a simple OLS linear regression model to the entire standardized dataset. Should you use a y-intercept or not?"
   ]
  },
  {
   "cell_type": "markdown",
   "metadata": {},
   "source": [
    "---\n",
    "6. (3 pt) Show a bar plot of the model coefficients (weights) for each feature. Put the feature names on the x-axis. Rotate the x-axis labels by 45 degrees and right-align them for visibility."
   ]
  },
  {
   "cell_type": "markdown",
   "metadata": {},
   "source": [
    "---\n",
    "7. (3 pts) Use statsmodels to perform the same linear regression as above. Plot the model's coefficients (weights) as above but add errorbars for the 95% confidence interval of each coefficient."
   ]
  }
 ],
 "metadata": {
  "kernelspec": {
   "display_name": "Python 3",
   "language": "python",
   "name": "python3"
  },
  "language_info": {
   "codemirror_mode": {
    "name": "ipython",
    "version": 3
   },
   "file_extension": ".py",
   "mimetype": "text/x-python",
   "name": "python",
   "nbconvert_exporter": "python",
   "pygments_lexer": "ipython3",
   "version": "3.7.5"
  }
 },
 "nbformat": 4,
 "nbformat_minor": 4
}
