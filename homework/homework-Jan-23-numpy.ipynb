{
 "cells": [
  {
   "cell_type": "markdown",
   "metadata": {},
   "source": [
    "# Homework (10 pts) - NumPy (and Matplotlib) Basics\n",
    "\n",
    "Use numpy and matplotlib as much as possible."
   ]
  },
  {
   "cell_type": "code",
   "execution_count": null,
   "metadata": {},
   "outputs": [],
   "source": [
    "import numpy as np\n",
    "import matplotlib.pyplot as plt\n",
    "# You can probably do away with this next line if you do not have a retina display.\n",
    "# Otherwise I find this option convenient.\n",
    "%config InlineBackend.figure_format = 'retina'"
   ]
  },
  {
   "cell_type": "markdown",
   "metadata": {},
   "source": [
    "1. (1 pt) Generate a 100x2 matrix of random numbers with values between 0 and 1. Treat each row as an (x,y) point and plot the points. Make sure to label your axes $x$ and $y$."
   ]
  },
  {
   "cell_type": "markdown",
   "metadata": {},
   "source": [
    "2. (1 pt) Shift and scale the above points so that each $x$ and $y$ value falls within 5 and 10. Replot the points."
   ]
  },
  {
   "cell_type": "markdown",
   "metadata": {},
   "source": [
    "3. (1 pt) Shift and scale only the $y$ values from above so that they fall within 100 and 200. Replot to show."
   ]
  },
  {
   "cell_type": "markdown",
   "metadata": {},
   "source": [
    "4. (1 pt) In a single line of code, multiply all $x$ values by 2 and divide all $y$ values by 100. Replot to show."
   ]
  },
  {
   "cell_type": "markdown",
   "metadata": {},
   "source": [
    "5. (1 pt) Replot the above points such that every other point has a different color. Hint: overlay two plots."
   ]
  },
  {
   "cell_type": "markdown",
   "metadata": {},
   "source": [
    "6. (1 pt) Use numpy.linspace to generate 101 equally spaced values of $x$ between and including -10 and 10. For each $x$ value, evaluate $y(x) = x^2$ and plot the result. Make sure to label your axes $x$ and $y$."
   ]
  },
  {
   "cell_type": "markdown",
   "metadata": {},
   "source": [
    "7. (1 pt) For the same values of $x$ above, plot $y(x) = a x^2 + b sin(x) + c$. Define $a$, $b$ and $c$ as variables with values 2, -30 and 50, respectively."
   ]
  },
  {
   "cell_type": "markdown",
   "metadata": {},
   "source": [
    "8. (1 pt) Replot $y(x)$ from above overlaid with a new plot of $y(x)$ computed with new values of $a$, $b$ and $c$ set to 3, 56 and 3, respectively."
   ]
  },
  {
   "cell_type": "markdown",
   "metadata": {},
   "source": [
    "9. (1 pt) For the overlaid polynomial above, compute the distance from every point (x,y) to the origin and plot those distances vs $x$."
   ]
  },
  {
   "cell_type": "markdown",
   "metadata": {},
   "source": [
    "10. (1 pt) Plot every other value in the same polynomial used in #6 above for $x$ between -5 ande 5 as a dashed line."
   ]
  }
 ],
 "metadata": {
  "kernelspec": {
   "display_name": "Python 3",
   "language": "python",
   "name": "python3"
  },
  "language_info": {
   "codemirror_mode": {
    "name": "ipython",
    "version": 3
   },
   "file_extension": ".py",
   "mimetype": "text/x-python",
   "name": "python",
   "nbconvert_exporter": "python",
   "pygments_lexer": "ipython3",
   "version": "3.7.5"
  }
 },
 "nbformat": 4,
 "nbformat_minor": 4
}
