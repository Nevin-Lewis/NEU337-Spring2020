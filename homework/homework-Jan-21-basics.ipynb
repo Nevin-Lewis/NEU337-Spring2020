{
 "cells": [
  {
   "cell_type": "markdown",
   "metadata": {},
   "source": [
    "# Homework (10 pts) - Python Basics"
   ]
  },
  {
   "cell_type": "markdown",
   "metadata": {},
   "source": [
    "1. (1 pt) Create a markdown cell with a header titled \"My Favorite Animals\" and a bulleted list of three of your favorite animals."
   ]
  },
  {
   "cell_type": "markdown",
   "metadata": {},
   "source": [
    "# My Favorite Animals\n",
    "- dog\n",
    "- tiger\n",
    "- honey_badger"
   ]
  },
  {
   "cell_type": "markdown",
   "metadata": {},
   "source": [
    "2. (1 pt) Create a list variable called **animals** that contains a string for each of the animals in the above markdown cell."
   ]
  },
  {
   "cell_type": "code",
   "execution_count": 1,
   "metadata": {},
   "outputs": [],
   "source": [
    "animals = ['dog','tiger','honey_badger']"
   ]
  },
  {
   "cell_type": "markdown",
   "metadata": {},
   "source": [
    "3. (1 pt) Add the two animals \"Puma\" and \"Jaguar\" (or some other two if you already have these) to the end of the **animals** list."
   ]
  },
  {
   "cell_type": "code",
   "execution_count": 2,
   "metadata": {},
   "outputs": [],
   "source": [
    "for cat in ['puma','jaguar']:\n",
    "    animals.append(cat) "
   ]
  },
  {
   "cell_type": "markdown",
   "metadata": {},
   "source": [
    "4. (1 pt) Copy the list into a new variable and remove the second animal from the copied list. Show that the original **animals** list is unchanged."
   ]
  },
  {
   "cell_type": "code",
   "execution_count": 3,
   "metadata": {},
   "outputs": [
    {
     "name": "stdout",
     "output_type": "stream",
     "text": [
      "new list ['dog', 'honey_badger', 'puma', 'jaguar']\n",
      "old list ['dog', 'tiger', 'honey_badger', 'puma', 'jaguar']\n"
     ]
    }
   ],
   "source": [
    "a2 = animals.copy()\n",
    "a2.remove(a2[1])\n",
    "print('new list', a2)\n",
    "print('old list', animals)"
   ]
  },
  {
   "cell_type": "markdown",
   "metadata": {},
   "source": [
    "5. (1 pt) Write a for loop that prints out the index and name of each animal in the **animals** list."
   ]
  },
  {
   "cell_type": "code",
   "execution_count": 4,
   "metadata": {},
   "outputs": [
    {
     "name": "stdout",
     "output_type": "stream",
     "text": [
      "0 dog\n",
      "1 tiger\n",
      "2 honey_badger\n",
      "3 puma\n",
      "4 jaguar\n"
     ]
    }
   ],
   "source": [
    "for i, animal in enumerate(animals):\n",
    "    print(i, animal)"
   ]
  },
  {
   "cell_type": "markdown",
   "metadata": {},
   "source": [
    "6. (1 pt) Write a for loop that prints the name of each animal in the **animals** list and indicates whether or not the animal is your absolute favorite by appending `\" (Absolute Favorite)\"` to the printed name. !!! Only one animal can be your absolute favorite!"
   ]
  },
  {
   "cell_type": "code",
   "execution_count": 5,
   "metadata": {},
   "outputs": [
    {
     "name": "stdout",
     "output_type": "stream",
     "text": [
      "dog (Abosolute Favorite)\n",
      "tiger\n",
      "honey_badger\n",
      "puma\n",
      "jaguar\n"
     ]
    }
   ],
   "source": [
    "for animal in animals:\n",
    "    if animal == 'dog':\n",
    "        print(animal + ' (Abosolute Favorite)')\n",
    "    else:\n",
    "        print(animal)"
   ]
  },
  {
   "cell_type": "markdown",
   "metadata": {},
   "source": [
    "7. (1 pt) Create a set called **cats** and add all cats from your **animals** list to the set. Also report how many cats are in your **animals** list by using a formatted print statement."
   ]
  },
  {
   "cell_type": "code",
   "execution_count": 6,
   "metadata": {},
   "outputs": [
    {
     "name": "stdout",
     "output_type": "stream",
     "text": [
      "there are 3 cats in the animals list\n"
     ]
    }
   ],
   "source": [
    "cats = set()\n",
    "for i in [1,-2,-1]:\n",
    "    cats.add(animals[i])\n",
    "print('there are %s cats in the animals list'%(len(cats)))"
   ]
  },
  {
   "cell_type": "markdown",
   "metadata": {},
   "source": [
    "8. (1 pt) Loop through the **animals** list and print out the names of only those animals that are in the **cats** set."
   ]
  },
  {
   "cell_type": "code",
   "execution_count": 7,
   "metadata": {},
   "outputs": [
    {
     "name": "stdout",
     "output_type": "stream",
     "text": [
      "tiger\n",
      "puma\n",
      "jaguar\n",
      "{'tiger', 'puma', 'jaguar'}\n"
     ]
    }
   ],
   "source": [
    "for animal in animals:\n",
    "    if animal in cats:\n",
    "        print(animal)\n",
    "        \n",
    "#or\n",
    "print(cats.intersection(animals))"
   ]
  },
  {
   "cell_type": "markdown",
   "metadata": {},
   "source": [
    "9. (1 pt) Print out the names of the animals in the **animals** list in reverse order."
   ]
  },
  {
   "cell_type": "code",
   "execution_count": 8,
   "metadata": {},
   "outputs": [
    {
     "name": "stdout",
     "output_type": "stream",
     "text": [
      "jaguar\n",
      "puma\n",
      "honey_badger\n",
      "tiger\n",
      "dog\n"
     ]
    }
   ],
   "source": [
    "for animal in animals[::-1]:\n",
    "    print(animal)"
   ]
  },
  {
   "cell_type": "markdown",
   "metadata": {},
   "source": [
    "10. (1 pt) Change the name of your favorite animal in the **animals** list to `\"___ are the best!\"` where `___` is the name of your favorite animal."
   ]
  },
  {
   "cell_type": "code",
   "execution_count": 9,
   "metadata": {},
   "outputs": [
    {
     "name": "stdout",
     "output_type": "stream",
     "text": [
      "['dogs are the best!', 'tiger', 'honey_badger', 'puma', 'jaguar']\n"
     ]
    }
   ],
   "source": [
    "animals[0] = 'dogs are the best!'\n",
    "print(animals)"
   ]
  }
 ],
 "metadata": {
  "kernelspec": {
   "display_name": "Python 3",
   "language": "python",
   "name": "python3"
  },
  "language_info": {
   "codemirror_mode": {
    "name": "ipython",
    "version": 3
   },
   "file_extension": ".py",
   "mimetype": "text/x-python",
   "name": "python",
   "nbconvert_exporter": "python",
   "pygments_lexer": "ipython3",
   "version": "3.6.3"
  }
 },
 "nbformat": 4,
 "nbformat_minor": 4
}
