{
 "cells": [
  {
   "cell_type": "markdown",
   "metadata": {},
   "source": [
    "# Homework (10 pts) - More Advanced Python"
   ]
  },
  {
   "cell_type": "code",
   "execution_count": null,
   "metadata": {},
   "outputs": [],
   "source": [
    "import numpy as np\n",
    "import matplotlib.pyplot as plt\n",
    "%config InlineBackend.figure_format = 'retina'"
   ]
  },
  {
   "cell_type": "markdown",
   "metadata": {},
   "source": [
    "1. (1 pt) Use a list coprehension to find all odd values in [1, 100] that are divisible by 9."
   ]
  },
  {
   "cell_type": "markdown",
   "metadata": {},
   "source": [
    "2. (1 pt) Use a list comprehension to find the square root of each odd number in [10, 11, 12, 13, 14, 15]."
   ]
  },
  {
   "cell_type": "markdown",
   "metadata": {},
   "source": [
    "3. (1 pt) For the 3x3 matrix **mat** below, use a list comprehension to find the square of the last column in every other row."
   ]
  },
  {
   "cell_type": "code",
   "execution_count": null,
   "metadata": {},
   "outputs": [],
   "source": [
    "mat = np.random.randint(0, 10, (3,3))\n",
    "mat"
   ]
  },
  {
   "cell_type": "markdown",
   "metadata": {},
   "source": [
    "4. (1 pt) Write a function that converts Farenheit to Celcius and use it to plot Celcius vs Farenheit for Farenheit values from 0 to 100 in unit steps. Make sure to label axes."
   ]
  },
  {
   "cell_type": "markdown",
   "metadata": {},
   "source": [
    "5. (1 pt) Write a function that returns the sum, difference, product and ratio of two values such that the second value defaults to 5. Use it on the value 3."
   ]
  },
  {
   "cell_type": "markdown",
   "metadata": {},
   "source": [
    "6. (1 pt) Use Numba to accelerate the above function and time it with and without acceleration given a single input of a 10000 element array of random values between 0 and 1."
   ]
  },
  {
   "cell_type": "markdown",
   "metadata": {},
   "source": [
    "7. (2 pts) Define a **neuron** class that has attributes **cell_type, brain_region, basal_spike_rate_per_sec**. Allow these attributes to be set as inputs when creating an instance of the class. Also make it so that printing an instance of the class should show the cell type and brain region. Create an intance of the class with some attribute values (whatever you want) and print it."
   ]
  },
  {
   "cell_type": "markdown",
   "metadata": {},
   "source": [
    "8. (2 pt) Add a method to your **neuron** class definition above (don't alter the code in the above cell, just copy and past to below cell and edit there) that returns a spike rate as a function of two inputs: an array of input strengths and a concentration of a modulatory drug. Make it so that the returned spike rate is the basal spike rate plus the sum of all input strengths multiplied by the drug concentration. Create an instance of your class and use it to generate the cell's spike rate for 101 drug concentrations equally spaced on a logscale from 1 to 100 and given an array of 10 random input strengths in the range 0 to 1 (use different random inputs for each concentration). Plot the spike rate vs drug concentration so computed."
   ]
  }
 ],
 "metadata": {
  "kernelspec": {
   "display_name": "Python 3",
   "language": "python",
   "name": "python3"
  },
  "language_info": {
   "codemirror_mode": {
    "name": "ipython",
    "version": 3
   },
   "file_extension": ".py",
   "mimetype": "text/x-python",
   "name": "python",
   "nbconvert_exporter": "python",
   "pygments_lexer": "ipython3",
   "version": "3.7.5"
  }
 },
 "nbformat": 4,
 "nbformat_minor": 4
}
