{
 "cells": [
  {
   "cell_type": "markdown",
   "metadata": {},
   "source": [
    "<h1>Plotting with Matplotlib</h1>"
   ]
  },
  {
   "cell_type": "markdown",
   "metadata": {},
   "source": [
    "<h1> Load some EEG data to plot</h1>\n",
    "\n",
    "!!! Note, how I extracted the eeg data below is not important, it just happens to be how it is arranged in the data file.\n",
    "\n",
    "**What's important is that you can understand the arrangement of the eeg ndarray and manipulate it.**"
   ]
  },
  {
   "cell_type": "code",
   "execution_count": null,
   "metadata": {},
   "outputs": [],
   "source": [
    "from scipy.io import loadmat\n",
    "data = loadmat('eeg.mat')  # load data saved in MATLAB format\n",
    "\n",
    "# Grab relevant data into an ndarray with dimensions (channel, time, trial).\n",
    "# Each channel is an electrode and each trial is a separate EEG recording from that electrode.\n",
    "# So eeg is an ndarray where each row is a time series recording from a particular electrode channel\n",
    "# and depth reflects repeated recordings from the same channel.\n",
    "eeg = data[\"EEG\"][0,0][\"data\"]  # [channel, time, trial]\n",
    "time = data[\"EEG\"][0,0][\"times\"][0]  # a 1d array of time points for the columns of eeg.\n",
    "\n",
    "eeg.shape, time.shape"
   ]
  },
  {
   "cell_type": "markdown",
   "metadata": {},
   "source": [
    "<h1>Plotting with Matplotlib</h1>"
   ]
  },
  {
   "cell_type": "code",
   "execution_count": null,
   "metadata": {},
   "outputs": [],
   "source": [
    "import matplotlib.pyplot as plt  # pyplot is a submodule in the matplotlib module"
   ]
  },
  {
   "cell_type": "code",
   "execution_count": null,
   "metadata": {},
   "outputs": [],
   "source": [
    "# Plot an the EEG for the 1st trial in the 3rd channel.\n",
    "plt.plot(time, eeg[2,:,0])\n",
    "plt.xlabel(\"Time (ms)\")\n",
    "plt.ylabel(\"EEG ($\\mu$V)\")\n",
    "plt.title(\"3rd Channel, 1st Trial\");  # ; supresses text output !!!"
   ]
  },
  {
   "cell_type": "markdown",
   "metadata": {},
   "source": [
    "<h1>Figure Size</h1>"
   ]
  },
  {
   "cell_type": "code",
   "execution_count": null,
   "metadata": {},
   "outputs": [],
   "source": [
    "plt.figure(figsize=(10, 5))\n",
    "plt.plot(time, eeg[2,:,0])\n",
    "plt.xlabel(\"Time (ms)\")\n",
    "plt.ylabel(\"EEG ($\\mu$V)\")\n",
    "plt.title(\"3rd Channel, 1st Trial\");"
   ]
  },
  {
   "cell_type": "markdown",
   "metadata": {},
   "source": [
    "<h1>Better Resolution for Retina Screens</h1>\n",
    "\n",
    "Unfortunately, this won't work for non-retina screens :("
   ]
  },
  {
   "cell_type": "code",
   "execution_count": null,
   "metadata": {},
   "outputs": [],
   "source": [
    "# Typically you would put this at the start of your notebook.\n",
    "%config InlineBackend.figure_format = 'retina'"
   ]
  },
  {
   "cell_type": "code",
   "execution_count": null,
   "metadata": {},
   "outputs": [],
   "source": [
    "plt.plot(time, eeg[2,:,0])\n",
    "plt.xlabel(\"Time (ms)\")\n",
    "plt.ylabel(\"EEG ($\\mu$V)\")\n",
    "plt.title(\"3rd Channel, 1st Trial\");"
   ]
  },
  {
   "cell_type": "code",
   "execution_count": null,
   "metadata": {},
   "outputs": [],
   "source": [
    "plt.plot(time, eeg[2,:,0], linewidth=0.75)\n",
    "plt.xlabel(\"Time (ms)\")\n",
    "plt.ylabel(\"EEG ($\\mu$V)\")\n",
    "plt.title(\"3rd Channel, 1st Trial\");"
   ]
  },
  {
   "cell_type": "code",
   "execution_count": null,
   "metadata": {},
   "outputs": [],
   "source": [
    "# Try these options:\n",
    "# 1. dashed line\n",
    "# 2. square markers\n",
    "# 3. markers only\n",
    "plt.plot(time[:10], eeg[2,:10,0], 'o-', linewidth=2, markersize=15)\n",
    "plt.xlabel(\"Time (ms)\")\n",
    "plt.ylabel(\"EEG ($\\mu$V)\")\n",
    "plt.title(\"3rd Channel, 1st Trial\");"
   ]
  },
  {
   "cell_type": "markdown",
   "metadata": {},
   "source": [
    "<h1>Interactive Plots</h1>\n",
    "\n",
    "If the below cells fail to run, try these steps:\n",
    "\n",
    "1. Install `nodejs` and `ipympl` (version >= 0.4) module. Either via Anaconda navigator UI or in shell:\n",
    "    * `conda install nodejs`\n",
    "    * `conda install -c conda-forge ipympl`\n",
    "2. Install Jupyter extensions. Run following commands in Terminal/Shell:\n",
    "    * `conda update jupyterlab`\n",
    "    * `jupyter labextension install @jupyter-widgets/jupyterlab-manager`\n",
    "    * `jupyter labextension install jupyter-matplotlib`\n",
    "    * `jupyter labextension update --all`\n",
    "    * `jupyter lab build`\n",
    "3. Restart JupyterLab"
   ]
  },
  {
   "cell_type": "code",
   "execution_count": null,
   "metadata": {},
   "outputs": [],
   "source": [
    "# Typically you would put this at the start of your notebook.\n",
    "# May require above installations to work.\n",
    "%matplotlib widget"
   ]
  },
  {
   "cell_type": "code",
   "execution_count": null,
   "metadata": {},
   "outputs": [],
   "source": [
    "plt.figure()\n",
    "plt.plot(time, eeg[2,:,0])\n",
    "plt.xlabel(\"Time (ms)\")\n",
    "plt.ylabel(\"EEG ($\\mu$V)\")\n",
    "plt.title(\"3rd Channel, 1st Trial\");"
   ]
  },
  {
   "cell_type": "code",
   "execution_count": null,
   "metadata": {},
   "outputs": [],
   "source": [
    "plt.plot(time, eeg[2,:,1]);\n",
    "plt.plot(time, eeg[2,:,2]);\n",
    "plt.title(\"3rd Channel, Trials 1-3\")\n",
    "plt.legend([\"Trial 1\", \"Trial 2\", \"Trial 3\"]);"
   ]
  },
  {
   "cell_type": "code",
   "execution_count": null,
   "metadata": {},
   "outputs": [],
   "source": [
    "plt.cla()"
   ]
  },
  {
   "cell_type": "code",
   "execution_count": null,
   "metadata": {},
   "outputs": [],
   "source": [
    "plt.plot(time, eeg[2,:,0])\n",
    "plt.xlabel(\"Time (ms)\")\n",
    "plt.ylabel(\"EEG ($\\mu$V)\")\n",
    "plt.title(\"3rd Channel, Trial 1\");"
   ]
  },
  {
   "cell_type": "code",
   "execution_count": null,
   "metadata": {},
   "outputs": [],
   "source": [
    "plt.figure()\n",
    "plt.plot(time, eeg[2,:,:3], linewidth=.8)\n",
    "plt.xlabel(\"Time (ms)\")\n",
    "plt.ylabel(\"EEG ($\\mu$V)\")\n",
    "plt.title(\"3rd Channel, Trials 1-2\")\n",
    "plt.legend([\"Trial 1\", \"Trial 2\", \"Trial 3\"]);"
   ]
  },
  {
   "cell_type": "markdown",
   "metadata": {},
   "source": [
    "<h1>Plots in Separate Windows</h1>\n",
    "\n",
    "You probably need the `pyqt` module:\n",
    "* `conda install pyqt`"
   ]
  },
  {
   "cell_type": "code",
   "execution_count": null,
   "metadata": {},
   "outputs": [],
   "source": [
    "# Need to restart the kernel to swithch to this instead of widget.\n",
    "%matplotlib qt\n",
    "import matplotlib.pyplot as plt"
   ]
  },
  {
   "cell_type": "code",
   "execution_count": null,
   "metadata": {},
   "outputs": [],
   "source": [
    "# Since we restarted the kernel, we need to reload the EEG data.\n",
    "from scipy.io import loadmat\n",
    "data = loadmat('eeg.mat')  # load data saved in MATLAB format\n",
    "\n",
    "# Grab relevant data into an ndarray with dimensions (channel, time, trial).\n",
    "# Each channel is an electrode and each trial is a separate EEG recording from that electrode.\n",
    "# So eeg is an ndarray where each row is a time series recording from a particular electrode channel\n",
    "# and depth reflects repeated recordings from the same channel.\n",
    "eeg = data[\"EEG\"][0,0][\"data\"]  # [channel, time, trial]\n",
    "time = data[\"EEG\"][0,0][\"times\"][0]  # a 1d array of time points for the columns of eeg.\n",
    "\n",
    "eeg.shape, time.shape"
   ]
  },
  {
   "cell_type": "code",
   "execution_count": null,
   "metadata": {},
   "outputs": [],
   "source": [
    "plt.figure()\n",
    "plt.plot(time, eeg[2,:,:3], linewidth=1)\n",
    "plt.xlabel(\"Time (ms)\")\n",
    "plt.ylabel(\"EEG ($\\mu$V)\")\n",
    "plt.title(\"3rd Channel, Trials 1-2\")\n",
    "plt.legend([\"Trial 1\", \"Trial 2\", \"Trial 3\"]);"
   ]
  },
  {
   "cell_type": "markdown",
   "metadata": {},
   "source": [
    "<h1>Back to Inline Plots</h1>"
   ]
  },
  {
   "cell_type": "code",
   "execution_count": null,
   "metadata": {},
   "outputs": [],
   "source": [
    "# Switch back to non-interactive plots.\n",
    "%matplotlib inline\n",
    "%config InlineBackend.figure_format = 'retina'"
   ]
  },
  {
   "cell_type": "code",
   "execution_count": null,
   "metadata": {},
   "outputs": [],
   "source": [
    "plt.figure(figsize=(15,5))\n",
    "plt.plot(time, eeg[2,:,:3], linewidth=1)\n",
    "plt.xlabel(\"Time (ms)\")\n",
    "plt.ylabel(\"EEG ($\\mu$V)\")\n",
    "plt.title(\"3rd Channel, Trials 1-2\")\n",
    "plt.legend([\"Trial 1\", \"Trial 2\", \"Trial 3\"]);"
   ]
  },
  {
   "cell_type": "markdown",
   "metadata": {},
   "source": [
    "<h1>Exercises</h1>"
   ]
  },
  {
   "cell_type": "markdown",
   "metadata": {},
   "source": [
    "1. Plot the overlaid EEG records for the 50th trial in channels 1, 30 and 42."
   ]
  },
  {
   "cell_type": "markdown",
   "metadata": {},
   "source": [
    "2. Plot the average EEG across trials in channel 14."
   ]
  },
  {
   "cell_type": "markdown",
   "metadata": {},
   "source": [
    "3. Plot the average EEG across channels 1-10 for trial 82."
   ]
  },
  {
   "cell_type": "markdown",
   "metadata": {},
   "source": [
    "4. Plot the standard deviation across trials for the last channel."
   ]
  }
 ],
 "metadata": {
  "kernelspec": {
   "display_name": "Python 3",
   "language": "python",
   "name": "python3"
  },
  "language_info": {
   "codemirror_mode": {
    "name": "ipython",
    "version": 3
   },
   "file_extension": ".py",
   "mimetype": "text/x-python",
   "name": "python",
   "nbconvert_exporter": "python",
   "pygments_lexer": "ipython3",
   "version": "3.7.5"
  }
 },
 "nbformat": 4,
 "nbformat_minor": 4
}
