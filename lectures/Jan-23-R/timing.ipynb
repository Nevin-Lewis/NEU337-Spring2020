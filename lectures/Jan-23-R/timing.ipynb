{
 "cells": [
  {
   "cell_type": "markdown",
   "metadata": {},
   "source": [
    "# Timing your code\n",
    "\n",
    "[Some useful info on code timing and profiling!](https://jakevdp.github.io/PythonDataScienceHandbook/01.07-timing-and-profiling.html)"
   ]
  },
  {
   "cell_type": "markdown",
   "metadata": {},
   "source": [
    "---\n",
    "## timeit"
   ]
  },
  {
   "cell_type": "code",
   "execution_count": null,
   "metadata": {},
   "outputs": [],
   "source": [
    "import numpy as np"
   ]
  },
  {
   "cell_type": "code",
   "execution_count": null,
   "metadata": {},
   "outputs": [],
   "source": [
    "# Time a single line of code\n",
    "%timeit np.sum(np.arange(50000))"
   ]
  },
  {
   "cell_type": "code",
   "execution_count": null,
   "metadata": {},
   "outputs": [],
   "source": [
    "%%timeit  # Time an entire cell (%%timit must be at the start of the cell)\n",
    "# ... do stuff here, entire cell computation will be timed\n",
    "x = 5\n",
    "np.sum(np.arange(50000))"
   ]
  },
  {
   "cell_type": "markdown",
   "metadata": {},
   "source": [
    "## Compare NumPy with pure Python"
   ]
  },
  {
   "cell_type": "code",
   "execution_count": null,
   "metadata": {},
   "outputs": [],
   "source": [
    "%%timeit\n",
    "tot = 0\n",
    "for i in range(50000):\n",
    "    tot += i"
   ]
  },
  {
   "cell_type": "markdown",
   "metadata": {},
   "source": [
    "---\n",
    "## <font color=red>!!! STOP HERE !!!</font>\n",
    "\n",
    "#### We'll introduce Numba next lecture."
   ]
  },
  {
   "cell_type": "markdown",
   "metadata": {},
   "source": [
    "---\n",
    "## Numba\n",
    "\n",
    "#### Let's accelerate Python loops and NumPy computations!\n",
    "\n",
    "[A quick intro!](https://numba.pydata.org/numba-doc/dev/user/5minguide.html)"
   ]
  },
  {
   "cell_type": "code",
   "execution_count": null,
   "metadata": {},
   "outputs": [],
   "source": [
    "import numba\n",
    "# now we can use numba's jit submodule by calling numba.jit"
   ]
  },
  {
   "cell_type": "code",
   "execution_count": null,
   "metadata": {},
   "outputs": [],
   "source": [
    "x = np.arange(100).reshape(10, 10)\n",
    "\n",
    "def go_fast(mat): # Function is compiled to machine code when called the first time\n",
    "    trace = 0\n",
    "    rows = mat.shape[0]\n",
    "    for i in range(rows):          # Numba likes loops\n",
    "        trace += np.tanh(mat[i,i]) # Numba likes NumPy functions\n",
    "    return mat + trace             # Numba likes NumPy broadcasting\n",
    "\n",
    "print(go_fast(x))"
   ]
  },
  {
   "cell_type": "code",
   "execution_count": null,
   "metadata": {},
   "outputs": [],
   "source": [
    "%%timeit\n",
    "# 1. Make sure there are no lines such as \"@numba.jit\" just before the go_fast function definition.\n",
    "# 2. Rerun the cell defining go_fast.\n",
    "# 3. Run this cell.\n",
    "go_fast(x)"
   ]
  },
  {
   "cell_type": "markdown",
   "metadata": {},
   "source": [
    "## numba.jit\n",
    "\n",
    "just-in-time compiler"
   ]
  },
  {
   "cell_type": "code",
   "execution_count": null,
   "metadata": {},
   "outputs": [],
   "source": [
    "%%timeit\n",
    "# 1. Add the line \"@numba.jit\" just before the go_fast function definition.\n",
    "# 2. Rerun the cell defining go_fast.\n",
    "# 3. Run this cell.\n",
    "go_fast(x)"
   ]
  },
  {
   "cell_type": "markdown",
   "metadata": {},
   "source": [
    "## numba.njit\n",
    "\n",
    "no leftover Python"
   ]
  },
  {
   "cell_type": "code",
   "execution_count": null,
   "metadata": {},
   "outputs": [],
   "source": [
    "%%timeit\n",
    "# 1. Add the line \"@numba.njit\" just before the go_fast function definition.\n",
    "# 2. Rerun the cell defining go_fast.\n",
    "# 3. Run this cell.\n",
    "go_fast(x)"
   ]
  },
  {
   "cell_type": "markdown",
   "metadata": {},
   "source": [
    "## A Gotcha!"
   ]
  },
  {
   "cell_type": "markdown",
   "metadata": {},
   "source": [
    "!!! WARNING !!! Note that the full speedup from jit is only seen the *2nd time* the function is used! This is because there is overhead to perform the compilation the first time around."
   ]
  },
  {
   "cell_type": "code",
   "execution_count": null,
   "metadata": {},
   "outputs": [],
   "source": [
    "%%timeit\n",
    "# 1. Comment out the `print(go_fast(x))` line following the function definition.\n",
    "# 2. Rerun the cell defining go_fast.\n",
    "# 3. Run this cell.\n",
    "go_fast(x)"
   ]
  }
 ],
 "metadata": {
  "kernelspec": {
   "display_name": "Python 3",
   "language": "python",
   "name": "python3"
  },
  "language_info": {
   "codemirror_mode": {
    "name": "ipython",
    "version": 3
   },
   "file_extension": ".py",
   "mimetype": "text/x-python",
   "name": "python",
   "nbconvert_exporter": "python",
   "pygments_lexer": "ipython3",
   "version": "3.7.5"
  }
 },
 "nbformat": 4,
 "nbformat_minor": 4
}
