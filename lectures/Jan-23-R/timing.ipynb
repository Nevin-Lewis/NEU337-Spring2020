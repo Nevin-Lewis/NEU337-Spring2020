{
 "cells": [
  {
   "cell_type": "markdown",
   "metadata": {},
   "source": [
    "<h1>Timing your code</h1>\n",
    "\n",
    "[Some useful info on code timing and profiling!](https://jakevdp.github.io/PythonDataScienceHandbook/01.07-timing-and-profiling.html)"
   ]
  },
  {
   "cell_type": "code",
   "execution_count": null,
   "metadata": {},
   "outputs": [],
   "source": [
    "import numpy as np"
   ]
  },
  {
   "cell_type": "code",
   "execution_count": null,
   "metadata": {},
   "outputs": [],
   "source": [
    "%%timeit  # must be start of cell\n",
    "# ... do stuff here, entire cell computation will be timed\n",
    "np.sum(np.arange(50000))"
   ]
  },
  {
   "cell_type": "code",
   "execution_count": null,
   "metadata": {},
   "outputs": [],
   "source": [
    "%%timeit\n",
    "tot = 0\n",
    "for i in range(50000):\n",
    "    tot += i"
   ]
  },
  {
   "cell_type": "markdown",
   "metadata": {},
   "source": [
    "<h1>Numba</h1>\n",
    "\n",
    "<h3>Let's accelerate Python loops and NumPy computations!</h3>\n",
    "\n",
    "[A quick intro!](https://numba.pydata.org/numba-doc/dev/user/5minguide.html)"
   ]
  },
  {
   "cell_type": "code",
   "execution_count": null,
   "metadata": {},
   "outputs": [],
   "source": [
    "import numba\n",
    "# now we can use numba's jit submodule by calling numba.jit\n",
    "\n",
    "from numba import jit, njit\n",
    "# now we can use numba's jit submodule by calling jit directly"
   ]
  },
  {
   "cell_type": "code",
   "execution_count": null,
   "metadata": {},
   "outputs": [],
   "source": [
    "x = np.arange(100).reshape(10, 10)\n",
    "\n",
    "def go_fast(mat): # Function is compiled to machine code when called the first time\n",
    "    trace = 0\n",
    "    rows = mat.shape[0]\n",
    "    for i in range(rows):          # Numba likes loops\n",
    "        trace += np.tanh(mat[i,i]) # Numba likes NumPy functions\n",
    "    return mat + trace             # Numba likes NumPy broadcasting\n",
    "\n",
    "print(go_fast(x))"
   ]
  },
  {
   "cell_type": "code",
   "execution_count": null,
   "metadata": {},
   "outputs": [],
   "source": [
    "%%timeit\n",
    "go_fast(x)"
   ]
  },
  {
   "cell_type": "code",
   "execution_count": null,
   "metadata": {},
   "outputs": [],
   "source": [
    "%%timeit\n",
    "# 1. Add the line \"@jit\" just before the go_fast function definition.\n",
    "# 2. Rerun the cell defining go_fast.\n",
    "# 3. Run this cell.\n",
    "go_fast(x)  # jit"
   ]
  },
  {
   "cell_type": "code",
   "execution_count": null,
   "metadata": {},
   "outputs": [],
   "source": [
    "%%timeit\n",
    "# 1. Add the line \"@njit\" just before the go_fast function definition.\n",
    "# 2. Rerun the cell defining go_fast.\n",
    "# 3. Run this cell.\n",
    "go_fast(x)  # njit"
   ]
  }
 ],
 "metadata": {
  "kernelspec": {
   "display_name": "Python 3",
   "language": "python",
   "name": "python3"
  },
  "language_info": {
   "codemirror_mode": {
    "name": "ipython",
    "version": 3
   },
   "file_extension": ".py",
   "mimetype": "text/x-python",
   "name": "python",
   "nbconvert_exporter": "python",
   "pygments_lexer": "ipython3",
   "version": "3.7.4"
  }
 },
 "nbformat": 4,
 "nbformat_minor": 4
}
