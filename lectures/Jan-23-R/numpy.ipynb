{
 "cells": [
  {
   "cell_type": "markdown",
   "metadata": {},
   "source": [
    "<h1>NumPy</h1>\n",
    "\n",
    "<h3>(Otherwise Python is just too slow and cumbersome.)</h3>"
   ]
  },
  {
   "cell_type": "code",
   "execution_count": null,
   "metadata": {},
   "outputs": [],
   "source": [
    "# To use the numpy module we need to import it.\n",
    "# If you didn't already have the module,\n",
    "# you would first need to get it (e.g. via Anaconda Navigator).\n",
    "import numpy"
   ]
  },
  {
   "cell_type": "code",
   "execution_count": null,
   "metadata": {},
   "outputs": [],
   "source": [
    "a1 = numpy.array([1,2,3,4,5,6,7,8])"
   ]
  },
  {
   "cell_type": "markdown",
   "metadata": {},
   "source": [
    "<h1>Exercises</h1>"
   ]
  },
  {
   "cell_type": "markdown",
   "metadata": {},
   "source": [
    "1. Print out the array a1."
   ]
  },
  {
   "cell_type": "markdown",
   "metadata": {},
   "source": [
    "2. Print out the type of thing that a1 is."
   ]
  },
  {
   "cell_type": "markdown",
   "metadata": {},
   "source": [
    "---\n",
    "\n",
    "<h1>Show how to add modules via Anaconda Navigator</h1>\n",
    "\n",
    "You can also use the command line to install modules. e.g. `conda install numpy`\n",
    "\n",
    "---"
   ]
  },
  {
   "cell_type": "markdown",
   "metadata": {},
   "source": [
    "<h1>ndarray (n-dimensional array)</h1>\n",
    "\n",
    "<h3>shape = (rows, columns, depth, higher dimensions...)</h3>"
   ]
  },
  {
   "cell_type": "code",
   "execution_count": null,
   "metadata": {},
   "outputs": [],
   "source": [
    "# import ___ as ALIAS for shorthand notation\n",
    "import numpy as np\n",
    "\n",
    "a2 = np.array([[1,2],[3,4],[5,6]])\n",
    "a2"
   ]
  },
  {
   "cell_type": "code",
   "execution_count": null,
   "metadata": {},
   "outputs": [],
   "source": [
    "a1.shape, a2.shape"
   ]
  },
  {
   "cell_type": "code",
   "execution_count": null,
   "metadata": {},
   "outputs": [],
   "source": [
    "a3 = a1.reshape((2,2,2))\n",
    "a3"
   ]
  },
  {
   "cell_type": "markdown",
   "metadata": {},
   "source": [
    "<h1>Exercises</h1>"
   ]
  },
  {
   "cell_type": "markdown",
   "metadata": {},
   "source": [
    "1. Print out the number of rows in a2? Hint: Use a2's shape attribute."
   ]
  },
  {
   "cell_type": "markdown",
   "metadata": {},
   "source": [
    "<h1>Exercises</h1>"
   ]
  },
  {
   "cell_type": "code",
   "execution_count": null,
   "metadata": {},
   "outputs": [],
   "source": [
    "a1 = np.arange(1,7)  #start, stop, step\n",
    "a1"
   ]
  },
  {
   "cell_type": "markdown",
   "metadata": {},
   "source": [
    "1. Use the 1D array a1 above to create a matrix with rows [1,2,3] and [4,5,6]."
   ]
  },
  {
   "cell_type": "markdown",
   "metadata": {},
   "source": [
    "---\n",
    "\n",
    "<h1>Follow the link below for a graphical tour of ndarrays</h1>\n",
    "\n",
    "[Let's check out Jay Alammar's graphical depictions of ndarrays!](http://jalammar.github.io/visual-numpy/)\n",
    "\n",
    "---\n",
    "\n",
    "<h1>Now we'll just recap on a few things.</h1>\n",
    "\n",
    "---"
   ]
  },
  {
   "cell_type": "markdown",
   "metadata": {},
   "source": [
    "<h1>Indexing</h1>\n",
    "\n",
    "<h3>[rows, columns, depth, ...]</h3>\n",
    "\n",
    "![NumPy indexing](images/numpy_indexing.png)"
   ]
  },
  {
   "cell_type": "markdown",
   "metadata": {},
   "source": [
    "<h1>Exercises</h1>"
   ]
  },
  {
   "cell_type": "markdown",
   "metadata": {},
   "source": [
    "1. Pair off with one of your neighbors. One of you explain the red selection to the other, then vice versa for the last lime green selection."
   ]
  },
  {
   "cell_type": "code",
   "execution_count": null,
   "metadata": {},
   "outputs": [],
   "source": [
    "# the above pictured matrix\n",
    "# !!! By the end of this lecture you should understand this next line !!!\n",
    "a = np.arange(36).reshape((6,6)) + np.arange(6).reshape((6,1)) * 4\n",
    "a"
   ]
  },
  {
   "cell_type": "markdown",
   "metadata": {},
   "source": [
    "2. Change the value of the element in the 3rd row and 2nd column to 100."
   ]
  },
  {
   "cell_type": "markdown",
   "metadata": {},
   "source": [
    "3. Set every other row in the last column to zero."
   ]
  },
  {
   "cell_type": "markdown",
   "metadata": {},
   "source": [
    "<h1>Initializing</h1>"
   ]
  },
  {
   "cell_type": "code",
   "execution_count": null,
   "metadata": {},
   "outputs": [],
   "source": [
    "np.zeros((2,3))"
   ]
  },
  {
   "cell_type": "code",
   "execution_count": null,
   "metadata": {},
   "outputs": [],
   "source": [
    "shape = (2,3)\n",
    "np.ones(shape)"
   ]
  },
  {
   "cell_type": "code",
   "execution_count": null,
   "metadata": {},
   "outputs": [],
   "source": [
    "mat = np.random.random((2,3,2))\n",
    "mat"
   ]
  },
  {
   "cell_type": "markdown",
   "metadata": {},
   "source": [
    "<h1>Broadcasting</h1>\n",
    "\n",
    "![NumPy broadcasting](images/numpy_broadcasting.png)"
   ]
  },
  {
   "cell_type": "code",
   "execution_count": null,
   "metadata": {},
   "outputs": [],
   "source": [
    "a = np.array([0,10,20,30]).reshape((-1,1))  # -1 => as many elements as needed\n",
    "b = np.array([0,1,2]).reshape((1,-1))  # -1 => as many elements as needed\n",
    "a"
   ]
  },
  {
   "cell_type": "code",
   "execution_count": null,
   "metadata": {},
   "outputs": [],
   "source": [
    "b"
   ]
  },
  {
   "cell_type": "code",
   "execution_count": null,
   "metadata": {},
   "outputs": [],
   "source": [
    "a+b"
   ]
  },
  {
   "cell_type": "code",
   "execution_count": null,
   "metadata": {},
   "outputs": [],
   "source": [
    "a*b"
   ]
  },
  {
   "cell_type": "code",
   "execution_count": null,
   "metadata": {},
   "outputs": [],
   "source": [
    "c = a*b*10\n",
    "c"
   ]
  },
  {
   "cell_type": "markdown",
   "metadata": {},
   "source": [
    "<h1>Reductions</h1>"
   ]
  },
  {
   "cell_type": "code",
   "execution_count": null,
   "metadata": {},
   "outputs": [],
   "source": [
    "c.min(), c.max(), c.mean(), c.std()"
   ]
  },
  {
   "cell_type": "code",
   "execution_count": null,
   "metadata": {},
   "outputs": [],
   "source": [
    "c.max(axis=0)  # max along rows"
   ]
  },
  {
   "cell_type": "code",
   "execution_count": null,
   "metadata": {},
   "outputs": [],
   "source": [
    "c.max(axis=1)  # max along columns"
   ]
  },
  {
   "cell_type": "markdown",
   "metadata": {},
   "source": [
    "---\n",
    "\n",
    "<h1>EEG data</h1>\n",
    "\n",
    "!!! Note, how I extracted the eeg data below is not important, it just happens to be how it is arranged in the data file.\n",
    "\n",
    "**What's important is that you can understand the arrangement of the eeg ndarray and manipulate it.**"
   ]
  },
  {
   "cell_type": "code",
   "execution_count": null,
   "metadata": {},
   "outputs": [],
   "source": [
    "from scipy.io import loadmat\n",
    "data = loadmat('eeg.mat')  # load data saved in MATLAB format\n",
    "\n",
    "# Grab relevant data into an ndarray with dimensions (channel, time, trial).\n",
    "# Each channel is an electrode and each trial is a separate EEG recording from that electrode.\n",
    "# So eeg is an ndarray where each row is a time series recording from a particular electrode channel\n",
    "# and depth reflects repeated recordings from the same channel.\n",
    "eeg = data[\"EEG\"][0,0][\"data\"]  # [channel, time, trial]\n",
    "\n",
    "eeg.shape"
   ]
  },
  {
   "cell_type": "markdown",
   "metadata": {},
   "source": [
    "<h1>Exercises</h1>"
   ]
  },
  {
   "cell_type": "markdown",
   "metadata": {},
   "source": [
    "1. Print the number of electrodes by getting it from eeg.shape. Use a formatted print statement to make it read nice."
   ]
  },
  {
   "cell_type": "markdown",
   "metadata": {},
   "source": [
    "2. Create a new variable **trace** that refers to the 3rd channel's 1st trial EEG record."
   ]
  },
  {
   "cell_type": "markdown",
   "metadata": {},
   "source": [
    "3. Create an array containing the time-averaged EEG value ($\\mu$V) for each trial in channel 10."
   ]
  },
  {
   "cell_type": "markdown",
   "metadata": {},
   "source": [
    "4. Create a new EEG array with each channel's average EEG across trials. What should the shape of this new array be?"
   ]
  }
 ],
 "metadata": {
  "kernelspec": {
   "display_name": "Python 3",
   "language": "python",
   "name": "python3"
  },
  "language_info": {
   "codemirror_mode": {
    "name": "ipython",
    "version": 3
   },
   "file_extension": ".py",
   "mimetype": "text/x-python",
   "name": "python",
   "nbconvert_exporter": "python",
   "pygments_lexer": "ipython3",
   "version": "3.7.4"
  }
 },
 "nbformat": 4,
 "nbformat_minor": 4
}
