{
 "cells": [
  {
   "cell_type": "markdown",
   "metadata": {},
   "source": [
    "# Plotting with Matplotlib"
   ]
  },
  {
   "cell_type": "markdown",
   "metadata": {},
   "source": [
    "---\n",
    "## Load some EEG data to plot\n",
    "\n",
    "!!! Note, how I extracted the eeg data below is not important, it just happens to be how it is arranged in the data file.\n",
    "\n",
    "**What's important is that you can understand the arrangement of the eeg ndarray and manipulate it.**"
   ]
  },
  {
   "cell_type": "code",
   "execution_count": null,
   "metadata": {},
   "outputs": [],
   "source": [
    "from scipy.io import loadmat  # I'm using loadmat from the io submodule of the scipy module\n",
    "data = loadmat('eeg.mat')  # load data saved in MATLAB format\n",
    "\n",
    "# Grab relevant data into an ndarray with dimensions (channel, time, trial).\n",
    "# Each channel is an electrode and each trial is a separate EEG recording from that electrode.\n",
    "# So eeg is an ndarray where each row is a time series recording from a particular electrode channel\n",
    "# and depth reflects repeated recordings from the same channel.\n",
    "eeg = data[\"EEG\"][0,0][\"data\"]  # [channel, time, trial]\n",
    "time = data[\"EEG\"][0,0][\"times\"][0]  # a 1d array of time points for the columns of eeg.\n",
    "\n",
    "eeg.shape, time.shape"
   ]
  },
  {
   "cell_type": "markdown",
   "metadata": {},
   "source": [
    "---\n",
    "## Basic Plot"
   ]
  },
  {
   "cell_type": "code",
   "execution_count": null,
   "metadata": {},
   "outputs": [],
   "source": [
    "import matplotlib.pyplot as plt  # get pyplot from within the matplotlib module"
   ]
  },
  {
   "cell_type": "code",
   "execution_count": null,
   "metadata": {},
   "outputs": [],
   "source": [
    "# Plot the EEG for the 1st trial in the 3rd channel.\n",
    "plt.plot(time, eeg[2,:,0])\n",
    "plt.xlabel(\"Time (ms)\")\n",
    "plt.ylabel(\"EEG ($\\mu$V)\")\n",
    "plt.title(\"3rd Channel, 1st Trial\");  # ; supresses text output !!!"
   ]
  },
  {
   "cell_type": "markdown",
   "metadata": {},
   "source": [
    "## Figure Size"
   ]
  },
  {
   "cell_type": "code",
   "execution_count": null,
   "metadata": {},
   "outputs": [],
   "source": [
    "plt.figure(figsize=(10, 5))\n",
    "plt.plot(time, eeg[2,:,0])\n",
    "plt.xlabel(\"Time (ms)\")\n",
    "plt.ylabel(\"EEG ($\\mu$V)\")\n",
    "plt.title(\"3rd Channel, 1st Trial\");"
   ]
  },
  {
   "cell_type": "markdown",
   "metadata": {},
   "source": [
    "## Better Resolution for Retina Screens\n",
    "\n",
    "<font color=red>Unfortunately, this won't work for non-retina screens :(</font>"
   ]
  },
  {
   "cell_type": "code",
   "execution_count": null,
   "metadata": {},
   "outputs": [],
   "source": [
    "# Typically you would put this at the start of your notebook.\n",
    "%config InlineBackend.figure_format = 'retina'"
   ]
  },
  {
   "cell_type": "code",
   "execution_count": null,
   "metadata": {},
   "outputs": [],
   "source": [
    "plt.plot(time, eeg[2,:,0])\n",
    "plt.xlabel(\"Time (ms)\")\n",
    "plt.ylabel(\"EEG ($\\mu$V)\")\n",
    "plt.title(\"3rd Channel, 1st Trial\");"
   ]
  },
  {
   "cell_type": "markdown",
   "metadata": {},
   "source": [
    "## Plot Options\n",
    "\n",
    "There are tons! e.g. see [Matplotlib's website](https://matplotlib.org). Here's a couple of examples:"
   ]
  },
  {
   "cell_type": "code",
   "execution_count": null,
   "metadata": {},
   "outputs": [],
   "source": [
    "plt.plot(time, eeg[2,:,0], linewidth=0.75)\n",
    "plt.xlabel(\"Time (ms)\")\n",
    "plt.ylabel(\"EEG ($\\mu$V)\")\n",
    "plt.title(\"3rd Channel, 1st Trial\");"
   ]
  },
  {
   "cell_type": "code",
   "execution_count": null,
   "metadata": {},
   "outputs": [],
   "source": [
    "# Try these options:\n",
    "# 1. dashed line\n",
    "# 2. square markers\n",
    "# 3. markers only\n",
    "plt.plot(time[:10], eeg[2,:10,0], 'o-', linewidth=2, markersize=15)\n",
    "plt.xlabel(\"Time (ms)\")\n",
    "plt.ylabel(\"EEG ($\\mu$V)\")\n",
    "plt.title(\"3rd Channel, 1st Trial\");"
   ]
  },
  {
   "cell_type": "markdown",
   "metadata": {},
   "source": [
    "---\n",
    "## Interactive Plots\n",
    "\n",
    "If the below cells fail to run, try these steps:\n",
    "\n",
    "1. Install `nodejs` and `ipympl` (version >= 0.4) module. Either via Anaconda navigator UI or in shell:\n",
    "    * `conda install nodejs`\n",
    "    * `conda install -c conda-forge ipympl`\n",
    "2. Install Jupyter extensions. Run following commands in Terminal/Shell:\n",
    "    * `conda update jupyterlab`\n",
    "    * `jupyter labextension install @jupyter-widgets/jupyterlab-manager`\n",
    "    * `jupyter labextension install jupyter-matplotlib`\n",
    "    * `jupyter labextension update --all`\n",
    "    * `jupyter lab build`\n",
    "3. Restart JupyterLab"
   ]
  },
  {
   "cell_type": "code",
   "execution_count": null,
   "metadata": {},
   "outputs": [],
   "source": [
    "# Typically you would put this at the start of your notebook.\n",
    "# May require above installations to work.\n",
    "%matplotlib widget"
   ]
  },
  {
   "cell_type": "code",
   "execution_count": null,
   "metadata": {},
   "outputs": [],
   "source": [
    "plt.figure()\n",
    "plt.plot(time, eeg[2,:,0])\n",
    "plt.xlabel(\"Time (ms)\")\n",
    "plt.ylabel(\"EEG ($\\mu$V)\")\n",
    "plt.title(\"3rd Channel, 1st Trial\");"
   ]
  },
  {
   "cell_type": "code",
   "execution_count": null,
   "metadata": {},
   "outputs": [],
   "source": [
    "plt.plot(time, eeg[2,:,1]);\n",
    "plt.plot(time, eeg[2,:,2]);\n",
    "plt.title(\"3rd Channel, Trials 1-3\")\n",
    "plt.legend([\"Trial 1\", \"Trial 2\", \"Trial 3\"]);"
   ]
  },
  {
   "cell_type": "code",
   "execution_count": null,
   "metadata": {},
   "outputs": [],
   "source": [
    "plt.cla()"
   ]
  },
  {
   "cell_type": "code",
   "execution_count": null,
   "metadata": {},
   "outputs": [],
   "source": [
    "plt.plot(time, eeg[2,:,0])\n",
    "plt.xlabel(\"Time (ms)\")\n",
    "plt.ylabel(\"EEG ($\\mu$V)\")\n",
    "plt.title(\"3rd Channel, Trial 1\");"
   ]
  },
  {
   "cell_type": "code",
   "execution_count": null,
   "metadata": {},
   "outputs": [],
   "source": [
    "plt.figure()\n",
    "plt.plot(time, eeg[2,:,:3], linewidth=.8)\n",
    "plt.xlabel(\"Time (ms)\")\n",
    "plt.ylabel(\"EEG ($\\mu$V)\")\n",
    "plt.title(\"3rd Channel, Trials 1-2\")\n",
    "plt.legend([\"Trial 1\", \"Trial 2\", \"Trial 3\"]);"
   ]
  },
  {
   "cell_type": "markdown",
   "metadata": {},
   "source": [
    "---\n",
    "## Plots in Separate Windows\n",
    "\n",
    "You probably need the `pyqt` module:\n",
    "* `conda install pyqt`"
   ]
  },
  {
   "cell_type": "code",
   "execution_count": null,
   "metadata": {},
   "outputs": [],
   "source": [
    "# Need to restart the kernel to swithch to this instead of widget.\n",
    "%matplotlib qt\n",
    "import matplotlib.pyplot as plt"
   ]
  },
  {
   "cell_type": "code",
   "execution_count": null,
   "metadata": {},
   "outputs": [],
   "source": [
    "# Since we restarted the kernel, we need to reload the EEG data.\n",
    "from scipy.io import loadmat\n",
    "data = loadmat('eeg.mat')  # load data saved in MATLAB format\n",
    "eeg = data[\"EEG\"][0,0][\"data\"]  # [channel, time, trial]\n",
    "time = data[\"EEG\"][0,0][\"times\"][0]  # a 1d array of time points for the columns of eeg.\n",
    "eeg.shape, time.shape"
   ]
  },
  {
   "cell_type": "code",
   "execution_count": null,
   "metadata": {},
   "outputs": [],
   "source": [
    "plt.figure()\n",
    "plt.plot(time, eeg[2,:,:3], linewidth=1)\n",
    "plt.xlabel(\"Time (ms)\")\n",
    "plt.ylabel(\"EEG ($\\mu$V)\")\n",
    "plt.title(\"3rd Channel, Trials 1-2\")\n",
    "plt.legend([\"Trial 1\", \"Trial 2\", \"Trial 3\"]);"
   ]
  },
  {
   "cell_type": "markdown",
   "metadata": {},
   "source": [
    "---\n",
    "## Back to Inline Plots"
   ]
  },
  {
   "cell_type": "code",
   "execution_count": null,
   "metadata": {},
   "outputs": [],
   "source": [
    "# Switch back to non-interactive plots.\n",
    "%matplotlib inline\n",
    "%config InlineBackend.figure_format = 'retina'"
   ]
  },
  {
   "cell_type": "code",
   "execution_count": null,
   "metadata": {},
   "outputs": [],
   "source": [
    "plt.figure(figsize=(15,5))\n",
    "plt.plot(time, eeg[2,:,:3], linewidth=1)\n",
    "plt.xlabel(\"Time (ms)\")\n",
    "plt.ylabel(\"EEG ($\\mu$V)\")\n",
    "plt.title(\"3rd Channel, Trials 1-2\")\n",
    "plt.legend([\"Trial 1\", \"Trial 2\", \"Trial 3\"]);"
   ]
  },
  {
   "cell_type": "markdown",
   "metadata": {},
   "source": [
    "---\n",
    "## <font color=red>Exercises</font>"
   ]
  },
  {
   "cell_type": "markdown",
   "metadata": {},
   "source": [
    "1. Plot the overlaid EEG records for the 50th trial in channels 1, 30 and 42."
   ]
  },
  {
   "cell_type": "markdown",
   "metadata": {},
   "source": [
    "2. Plot the average EEG across trials in channel 14."
   ]
  },
  {
   "cell_type": "markdown",
   "metadata": {},
   "source": [
    "3. Plot the average EEG across channels 1-10 for trial 82."
   ]
  },
  {
   "cell_type": "markdown",
   "metadata": {},
   "source": [
    "4. Plot the standard deviation across trials for the last channel."
   ]
  },
  {
   "cell_type": "markdown",
   "metadata": {},
   "source": [
    "---\n",
    "## Array of Subplots"
   ]
  },
  {
   "cell_type": "code",
   "execution_count": null,
   "metadata": {},
   "outputs": [],
   "source": [
    "# We'll plot the first three trials in channel 18 in three separate plots arranged in a row.\n",
    "\n",
    "fig = plt.figure(figsize=(15,5))\n",
    "\n",
    "# 1st plot (row 1, column 1)\n",
    "ax = fig.add_subplot(1, 3, 1)  # (rows, cols, index)  !!! Aaaargh, they're one-based indices !!!\n",
    "ax.plot(time, eeg[18,:,0])\n",
    "ax.set_xlabel(\"Time (ms)\")\n",
    "ax.set_ylabel(\"EEG ($\\mu$V)\")\n",
    "ax.set_title(\"Channel 18, Trial 1\")\n",
    "\n",
    "# 2bd plot (row 1, column 2)\n",
    "ax = fig.add_subplot(1, 3, 2)  # (rows, cols, index)  !!! Aaaargh, they're one-based indices !!!\n",
    "ax.plot(time, eeg[18,:,1])\n",
    "ax.set_xlabel(\"Time (ms)\")\n",
    "ax.set_ylabel(\"EEG ($\\mu$V)\")\n",
    "ax.set_title(\"Channel 18, Trial 2\")\n",
    "\n",
    "# 3rd plot (row 1, column 3)\n",
    "ax = fig.add_subplot(1, 3, 3)  # (rows, cols, index)  !!! Aaaargh, they're one-based indices !!!\n",
    "ax.plot(time, eeg[18,:,2])\n",
    "ax.set_xlabel(\"Time (ms)\")\n",
    "ax.set_ylabel(\"EEG ($\\mu$V)\")\n",
    "ax.set_title(\"Channel 18, Trial 3\");"
   ]
  },
  {
   "cell_type": "markdown",
   "metadata": {},
   "source": [
    "---\n",
    "## 3-D Plots"
   ]
  },
  {
   "cell_type": "code",
   "execution_count": null,
   "metadata": {},
   "outputs": [],
   "source": [
    "import matplotlib.pyplot as plt\n",
    "from mpl_toolkits import mplot3d  # for 3d plots\n",
    "%matplotlib widget"
   ]
  },
  {
   "cell_type": "code",
   "execution_count": null,
   "metadata": {},
   "outputs": [],
   "source": [
    "import numpy as np\n",
    "\n",
    "xyz = np.random.random((100, 3))\n",
    "x = xyz[:,0]\n",
    "y = xyz[:,1]\n",
    "z = xyz[:,2]\n",
    "\n",
    "fig = plt.figure()\n",
    "ax = fig.add_subplot(1, 1, 1, projection='3d')\n",
    "ax.scatter(x, y, z)\n",
    "ax.set_xlabel('x')\n",
    "ax.set_ylabel('y')\n",
    "ax.set_zlabel('z');"
   ]
  },
  {
   "cell_type": "markdown",
   "metadata": {},
   "source": [
    "#### <font color=red>Restart the kernel and then replot the above using an interactive plot.</font>"
   ]
  },
  {
   "cell_type": "code",
   "execution_count": null,
   "metadata": {},
   "outputs": [],
   "source": [
    "# Switch back to non-interactive plots.\n",
    "%matplotlib inline\n",
    "%config InlineBackend.figure_format = 'retina'"
   ]
  },
  {
   "cell_type": "code",
   "execution_count": null,
   "metadata": {},
   "outputs": [],
   "source": [
    "# Since we restarted the kernel, we need to reload the EEG data.\n",
    "from scipy.io import loadmat\n",
    "data = loadmat('eeg.mat')  # load data saved in MATLAB format\n",
    "eeg = data[\"EEG\"][0,0][\"data\"]  # [channel, time, trial]\n",
    "time = data[\"EEG\"][0,0][\"times\"][0]  # a 1d array of time points for the columns of eeg.\n",
    "eeg.shape, time.shape"
   ]
  },
  {
   "cell_type": "code",
   "execution_count": null,
   "metadata": {},
   "outputs": [],
   "source": [
    "fig = plt.figure()\n",
    "ax = fig.gca(projection='3d')\n",
    "for i in range(10):\n",
    "    ax.plot(time, eeg[0,:,i], i)\n",
    "plt.xlabel(\"Time (ms)\")\n",
    "plt.ylabel(\"EEG ($\\mu$V)\")\n",
    "ax.set_zlabel(\"Trial\")"
   ]
  },
  {
   "cell_type": "markdown",
   "metadata": {},
   "source": [
    "---\n",
    "## Images"
   ]
  },
  {
   "cell_type": "code",
   "execution_count": null,
   "metadata": {},
   "outputs": [],
   "source": [
    "noisyImage = np.random.random((100,100))\n",
    "\n",
    "plt.figure()\n",
    "plt.imshow(noisyImage)\n",
    "plt.colorbar();"
   ]
  },
  {
   "cell_type": "markdown",
   "metadata": {},
   "source": [
    "---\n",
    "## Seaborn\n",
    "\n",
    "Some pre-configures and styled Matplotlib plots."
   ]
  },
  {
   "cell_type": "code",
   "execution_count": null,
   "metadata": {},
   "outputs": [],
   "source": [
    "import seaborn as sns"
   ]
  },
  {
   "cell_type": "code",
   "execution_count": null,
   "metadata": {},
   "outputs": [],
   "source": [
    "plt.figure()\n",
    "sns.heatmap(noisyImage);"
   ]
  }
 ],
 "metadata": {
  "kernelspec": {
   "display_name": "Python 3",
   "language": "python",
   "name": "python3"
  },
  "language_info": {
   "codemirror_mode": {
    "name": "ipython",
    "version": 3
   },
   "file_extension": ".py",
   "mimetype": "text/x-python",
   "name": "python",
   "nbconvert_exporter": "python",
   "pygments_lexer": "ipython3",
   "version": "3.7.5"
  }
 },
 "nbformat": 4,
 "nbformat_minor": 4
}
